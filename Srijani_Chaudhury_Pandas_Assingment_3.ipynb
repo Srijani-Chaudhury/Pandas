{
  "nbformat": 4,
  "nbformat_minor": 0,
  "metadata": {
    "kernelspec": {
      "display_name": "Python 3",
      "language": "python",
      "name": "python3"
    },
    "language_info": {
      "codemirror_mode": {
        "name": "ipython",
        "version": 3
      },
      "file_extension": ".py",
      "mimetype": "text/x-python",
      "name": "python",
      "nbconvert_exporter": "python",
      "pygments_lexer": "ipython3",
      "version": "3.7.1"
    },
    "colab": {
      "name": "Srijani Chaudhury - Pandas_Assingment-3.ipynb",
      "provenance": [],
      "toc_visible": true
    }
  },
  "cells": [
    {
      "cell_type": "markdown",
      "metadata": {
        "id": "KtNXP9obmmV5",
        "colab_type": "text"
      },
      "source": [
        "# Pandas Assingment-3\n",
        "\n",
        "(Based on IPL matches and deliveries dataset)\n",
        "\n",
        "\n",
        "<a>https://www.kaggle.com/nowke9/ipldata#matches.csv</a>\n",
        "\n",
        "\n",
        "<a>https://www.kaggle.com/nowke9/ipldata#deliveries.csv<a>"
      ]
    },
    {
      "cell_type": "markdown",
      "metadata": {
        "id": "yI-V7JDcvZrP",
        "colab_type": "text"
      },
      "source": [
        ""
      ]
    },
    {
      "cell_type": "code",
      "metadata": {
        "id": "oBSsq8nommWD",
        "colab_type": "code",
        "colab": {}
      },
      "source": [
        "import pandas as pd\n",
        "deliveries=pd.read_csv('/content/deliveries.csv')\n",
        "matches=pd.read_csv('/content/matchesnew.csv')"
      ],
      "execution_count": 0,
      "outputs": []
    },
    {
      "cell_type": "markdown",
      "metadata": {
        "id": "GCrpOaErmmWT",
        "colab_type": "text"
      },
      "source": [
        "## Q1. Find out a City which has hosted most no. of IPL openers i.e first match of a season."
      ]
    },
    {
      "cell_type": "code",
      "metadata": {
        "id": "uSABU6J33nff",
        "colab_type": "code",
        "outputId": "0948ce5a-9209-4aac-afe6-f46e4a469009",
        "colab": {
          "base_uri": "https://localhost:8080/",
          "height": 34
        }
      },
      "source": [
        "import pandas as pd\n",
        "\n",
        "print(matches.drop_duplicates(subset=['season'])['city'].value_counts().index[0])"
      ],
      "execution_count": 4,
      "outputs": [
        {
          "output_type": "stream",
          "text": [
            "Mumbai\n"
          ],
          "name": "stdout"
        }
      ]
    },
    {
      "cell_type": "code",
      "metadata": {
        "id": "QI6ZP5qCmmWi",
        "colab_type": "code",
        "colab": {}
      },
      "source": [
        ""
      ],
      "execution_count": 0,
      "outputs": []
    },
    {
      "cell_type": "markdown",
      "metadata": {
        "id": "Ov3UQeU8mmWs",
        "colab_type": "text"
      },
      "source": [
        "## Q2. Find out top-3 batsman who has scored most runs against Malinga."
      ]
    },
    {
      "cell_type": "code",
      "metadata": {
        "id": "DiGv6pmDmmWx",
        "colab_type": "code",
        "outputId": "f786a216-27db-4196-ba04-7d3acf4d1214",
        "colab": {
          "base_uri": "https://localhost:8080/",
          "height": 85
        }
      },
      "source": [
        "\n",
        "deliveries[deliveries['bowler']=='SL Malinga'].sort_values('batsman_runs',ascending=False)['batsman'].head(3)"
      ],
      "execution_count": 7,
      "outputs": [
        {
          "output_type": "execute_result",
          "data": {
            "text/plain": [
              "176034       AD Russell\n",
              "106651    Azhar Mahmood\n",
              "177896          CA Lynn\n",
              "Name: batsman, dtype: object"
            ]
          },
          "metadata": {
            "tags": []
          },
          "execution_count": 7
        }
      ]
    },
    {
      "cell_type": "code",
      "metadata": {
        "id": "m05kViyEmmW9",
        "colab_type": "code",
        "colab": {}
      },
      "source": [
        ""
      ],
      "execution_count": 0,
      "outputs": []
    },
    {
      "cell_type": "markdown",
      "metadata": {
        "id": "9fCo4tQXmmXM",
        "colab_type": "text"
      },
      "source": [
        "## Q3. Make a function to find top bowler(in terms of most wickets) against any team. Take input as team."
      ]
    },
    {
      "cell_type": "code",
      "metadata": {
        "id": "NDdgYiQKmmXQ",
        "colab_type": "code",
        "outputId": "93c38a9d-d3be-4265-fd3b-e19e342f308c",
        "colab": {
          "base_uri": "https://localhost:8080/",
          "height": 34
        }
      },
      "source": [
        "  def topbowler(team)\n",
        "    mask1=deliveries['batting_team']==team\n",
        "    mask2=deliveries['dismissal_kind'].isin(['caught', 'bowled',  'lbw', 'caught and bowled',\n",
        "          'stumped',  'hit wicket'])\n",
        "    deliveries[mask1 & mask2]['bowler'].value_counts().index[0]"
      ],
      "execution_count": 0,
      "outputs": [
        {
          "output_type": "execute_result",
          "data": {
            "text/plain": [
              "'DJ Bravo'"
            ]
          },
          "metadata": {
            "tags": []
          },
          "execution_count": 29
        }
      ]
    },
    {
      "cell_type": "code",
      "metadata": {
        "id": "CSaCY1c4mmXb",
        "colab_type": "code",
        "colab": {}
      },
      "source": [
        ""
      ],
      "execution_count": 0,
      "outputs": []
    },
    {
      "cell_type": "markdown",
      "metadata": {
        "id": "F9Z6w37RmmXh",
        "colab_type": "text"
      },
      "source": [
        "## Q4. Write a function which will take team name as input and return it's record of no. occurance in finals and no. of times won.  [Difficult]\n",
        "\n",
        "ex.-- if team is CSK-- \n",
        "CSK in finals-\n",
        "\n",
        "Played- 8\n",
        "Won- 3\n",
        "\n",
        "If any team which has not played in finals like Gujrat Lions\n",
        "\n",
        "Gujrat Lions in finals-\n",
        "\n",
        "Played-0\n"
      ]
    },
    {
      "cell_type": "code",
      "metadata": {
        "id": "JvsRYqG9mmXk",
        "colab_type": "code",
        "outputId": "eef273e5-6c59-4e93-d064-2235125725c1",
        "colab": {
          "base_uri": "https://localhost:8080/",
          "height": 34
        }
      },
      "source": [
        "import pandas as pd\n",
        "\n",
        "deliveries=pd.read_csv('/content/drive/My Drive/Colab Notebooks/deliveries.csv')\n",
        "matches=pd.read_csv('/content/drive/My Drive/Colab Notebooks/matchesnew.csv')\n",
        "def matchesnew(team):\n",
        "  \n",
        "  k=matches.drop_duplicates(subset=['season'],keep='last')\n",
        "  \n",
        "  mask1=k['team1']==team\n",
        "  mask2=k['team2']==team\n",
        "  if len(k[mask1 | mask2])==0:\n",
        "    return(\"Played 0\")\n",
        "  else:\n",
        "    p=k[mask1 | mask2].shape[0]    \n",
        "    d=k[mask1 | mask2]['winner'].value_counts()\n",
        "    if team in d:\n",
        "     return(\"Played {} Won {}\".format(p,d[team]))\n",
        "    else :\n",
        "     return(\"Played {} Won {}\".format(p,'0')) \n",
        "matchesnew('Sunrisers Hyderabad')     "
      ],
      "execution_count": 0,
      "outputs": [
        {
          "output_type": "execute_result",
          "data": {
            "text/plain": [
              "'Played 2 Won 1'"
            ]
          },
          "metadata": {
            "tags": []
          },
          "execution_count": 108
        }
      ]
    },
    {
      "cell_type": "code",
      "metadata": {
        "id": "WUyEshE1mmX1",
        "colab_type": "code",
        "outputId": "39450fad-15b7-4cf3-f909-994c9e897ff2",
        "colab": {
          "base_uri": "https://localhost:8080/",
          "height": 34
        }
      },
      "source": [
        "k=matches.drop_duplicates(subset=['season'],keep='last')['team2'].value_counts()\n",
        "\"Chennai Super Kings\" in k"
      ],
      "execution_count": 0,
      "outputs": [
        {
          "output_type": "execute_result",
          "data": {
            "text/plain": [
              "True"
            ]
          },
          "metadata": {
            "tags": []
          },
          "execution_count": 74
        }
      ]
    },
    {
      "cell_type": "markdown",
      "metadata": {
        "id": "dA0L30armmYD",
        "colab_type": "text"
      },
      "source": [
        "## Q5. Write a function which will take a input as batsman and in output it gives total runs scored against each team. [Medium]\n",
        "\n",
        "\n"
      ]
    },
    {
      "cell_type": "code",
      "metadata": {
        "id": "D5qkbl62mmYF",
        "colab_type": "code",
        "outputId": "ff5bc122-4236-4c72-9a85-2ee9bfa7926c",
        "colab": {
          "base_uri": "https://localhost:8080/",
          "height": 289
        }
      },
      "source": [
        "def batsmanruns(batsman):\n",
        "  mask=deliveries['batsman']==batsman\n",
        "  m=deliveries[mask].groupby(\"bowling_team\")\n",
        "  return(m['batsman_runs'].sum())\n",
        "print(batsmanruns('V Kohli'))  "
      ],
      "execution_count": 8,
      "outputs": [
        {
          "output_type": "stream",
          "text": [
            "bowling_team\n",
            "Chennai Super Kings        749\n",
            "Deccan Chargers            306\n",
            "Delhi Capitals              66\n",
            "Delhi Daredevils           763\n",
            "Gujarat Lions              283\n",
            "Kings XI Punjab            636\n",
            "Kochi Tuskers Kerala        50\n",
            "Kolkata Knight Riders      675\n",
            "Mumbai Indians             628\n",
            "Pune Warriors              128\n",
            "Rajasthan Royals           370\n",
            "Rising Pune Supergiant      83\n",
            "Rising Pune Supergiants    188\n",
            "Sunrisers Hyderabad        509\n",
            "Name: batsman_runs, dtype: int64\n"
          ],
          "name": "stdout"
        }
      ]
    },
    {
      "cell_type": "code",
      "metadata": {
        "id": "Y0xGAwFcmmYO",
        "colab_type": "code",
        "colab": {}
      },
      "source": [
        ""
      ],
      "execution_count": 0,
      "outputs": []
    },
    {
      "cell_type": "markdown",
      "metadata": {
        "id": "Lo3Vmv_lmmYY",
        "colab_type": "text"
      },
      "source": [
        ""
      ]
    }
  ]
}