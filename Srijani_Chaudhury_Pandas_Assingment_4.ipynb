{
  "nbformat": 4,
  "nbformat_minor": 0,
  "metadata": {
    "colab": {
      "name": "Srijani Chaudhury - Pandas Assingment-4.ipynb",
      "provenance": [],
      "collapsed_sections": []
    },
    "kernelspec": {
      "name": "python3",
      "display_name": "Python 3"
    }
  },
  "cells": [
    {
      "cell_type": "markdown",
      "metadata": {
        "id": "pRtGaaYvHX9E",
        "colab_type": "text"
      },
      "source": [
        "#  **Pandas Assingment-4**\n",
        "\n",
        "(Based on IPL matches and deliveries dataset)\n",
        "\n",
        "\n",
        "Matches- <a>https://www.kaggle.com/nowke9/ipldata#matches.csv</a>\n",
        "\n",
        "\n",
        "Deliveries- <a>https://www.kaggle.com/nowke9/ipldata#deliveries.csv<a>"
      ]
    },
    {
      "cell_type": "code",
      "metadata": {
        "id": "wWbs9Zo7HPa0",
        "colab_type": "code",
        "colab": {}
      },
      "source": [
        "#  Q1.- Make a pivot table of top 10 bowlers(in terms of wickets) with over(1-20) showing no. of wickets.  [Dificult-]"
      ],
      "execution_count": 0,
      "outputs": []
    },
    {
      "cell_type": "code",
      "metadata": {
        "id": "0bwEd4drWsJ6",
        "colab_type": "code",
        "outputId": "d68164c8-53fe-4ebc-ecb8-9ad1f5ce1310",
        "colab": {
          "base_uri": "https://localhost:8080/",
          "height": 407
        }
      },
      "source": [
        "import pandas as pd\n",
        "deliveries=pd.read_csv('/content/deliveries.csv')\n",
        "matches=pd.read_csv('/content/matchesnew.csv')\n",
        "mask2=deliveries['dismissal_kind'].isin(['caught', 'bowled',  'lbw', 'caught and bowled',\n",
        "          'stumped',  'hit wicket'])\n",
        "k=deliveries[mask2].groupby('bowler')['dismissal_kind'].count().sort_values(ascending=False).head(10).index.tolist()\n",
        "mask3=deliveries['bowler'].isin(k)\n",
        "mask4=deliveries['over']<=20\n",
        "m=deliveries[mask3 & mask4].groupby(['over','bowler'])['dismissal_kind'].count().reset_index()\n",
        "m.pivot_table(index='bowler',columns='over',values='dismissal_kind',aggfunc='mean')\n"
      ],
      "execution_count": 0,
      "outputs": [
        {
          "output_type": "execute_result",
          "data": {
            "text/html": [
              "<div>\n",
              "<style scoped>\n",
              "    .dataframe tbody tr th:only-of-type {\n",
              "        vertical-align: middle;\n",
              "    }\n",
              "\n",
              "    .dataframe tbody tr th {\n",
              "        vertical-align: top;\n",
              "    }\n",
              "\n",
              "    .dataframe thead th {\n",
              "        text-align: right;\n",
              "    }\n",
              "</style>\n",
              "<table border=\"1\" class=\"dataframe\">\n",
              "  <thead>\n",
              "    <tr style=\"text-align: right;\">\n",
              "      <th>over</th>\n",
              "      <th>1</th>\n",
              "      <th>2</th>\n",
              "      <th>3</th>\n",
              "      <th>4</th>\n",
              "      <th>5</th>\n",
              "      <th>6</th>\n",
              "      <th>7</th>\n",
              "      <th>8</th>\n",
              "      <th>9</th>\n",
              "      <th>10</th>\n",
              "      <th>11</th>\n",
              "      <th>12</th>\n",
              "      <th>13</th>\n",
              "      <th>14</th>\n",
              "      <th>15</th>\n",
              "      <th>16</th>\n",
              "      <th>17</th>\n",
              "      <th>18</th>\n",
              "      <th>19</th>\n",
              "      <th>20</th>\n",
              "    </tr>\n",
              "    <tr>\n",
              "      <th>bowler</th>\n",
              "      <th></th>\n",
              "      <th></th>\n",
              "      <th></th>\n",
              "      <th></th>\n",
              "      <th></th>\n",
              "      <th></th>\n",
              "      <th></th>\n",
              "      <th></th>\n",
              "      <th></th>\n",
              "      <th></th>\n",
              "      <th></th>\n",
              "      <th></th>\n",
              "      <th></th>\n",
              "      <th></th>\n",
              "      <th></th>\n",
              "      <th></th>\n",
              "      <th></th>\n",
              "      <th></th>\n",
              "      <th></th>\n",
              "      <th></th>\n",
              "    </tr>\n",
              "  </thead>\n",
              "  <tbody>\n",
              "    <tr>\n",
              "      <th>A Mishra</th>\n",
              "      <td>1.0</td>\n",
              "      <td>0.0</td>\n",
              "      <td>0.0</td>\n",
              "      <td>4.0</td>\n",
              "      <td>1.0</td>\n",
              "      <td>0.0</td>\n",
              "      <td>16.0</td>\n",
              "      <td>11.0</td>\n",
              "      <td>20.0</td>\n",
              "      <td>11.0</td>\n",
              "      <td>14.0</td>\n",
              "      <td>13.0</td>\n",
              "      <td>10.0</td>\n",
              "      <td>16.0</td>\n",
              "      <td>7.0</td>\n",
              "      <td>15.0</td>\n",
              "      <td>8.0</td>\n",
              "      <td>7.0</td>\n",
              "      <td>5.0</td>\n",
              "      <td>6.0</td>\n",
              "    </tr>\n",
              "    <tr>\n",
              "      <th>B Kumar</th>\n",
              "      <td>19.0</td>\n",
              "      <td>7.0</td>\n",
              "      <td>13.0</td>\n",
              "      <td>4.0</td>\n",
              "      <td>4.0</td>\n",
              "      <td>4.0</td>\n",
              "      <td>0.0</td>\n",
              "      <td>3.0</td>\n",
              "      <td>0.0</td>\n",
              "      <td>1.0</td>\n",
              "      <td>1.0</td>\n",
              "      <td>1.0</td>\n",
              "      <td>1.0</td>\n",
              "      <td>1.0</td>\n",
              "      <td>2.0</td>\n",
              "      <td>12.0</td>\n",
              "      <td>8.0</td>\n",
              "      <td>16.0</td>\n",
              "      <td>20.0</td>\n",
              "      <td>24.0</td>\n",
              "    </tr>\n",
              "    <tr>\n",
              "      <th>DJ Bravo</th>\n",
              "      <td>NaN</td>\n",
              "      <td>1.0</td>\n",
              "      <td>2.0</td>\n",
              "      <td>3.0</td>\n",
              "      <td>1.0</td>\n",
              "      <td>6.0</td>\n",
              "      <td>7.0</td>\n",
              "      <td>5.0</td>\n",
              "      <td>6.0</td>\n",
              "      <td>2.0</td>\n",
              "      <td>4.0</td>\n",
              "      <td>8.0</td>\n",
              "      <td>7.0</td>\n",
              "      <td>9.0</td>\n",
              "      <td>5.0</td>\n",
              "      <td>14.0</td>\n",
              "      <td>9.0</td>\n",
              "      <td>29.0</td>\n",
              "      <td>14.0</td>\n",
              "      <td>36.0</td>\n",
              "    </tr>\n",
              "    <tr>\n",
              "      <th>Harbhajan Singh</th>\n",
              "      <td>5.0</td>\n",
              "      <td>6.0</td>\n",
              "      <td>1.0</td>\n",
              "      <td>7.0</td>\n",
              "      <td>4.0</td>\n",
              "      <td>9.0</td>\n",
              "      <td>14.0</td>\n",
              "      <td>14.0</td>\n",
              "      <td>9.0</td>\n",
              "      <td>13.0</td>\n",
              "      <td>14.0</td>\n",
              "      <td>13.0</td>\n",
              "      <td>6.0</td>\n",
              "      <td>13.0</td>\n",
              "      <td>5.0</td>\n",
              "      <td>8.0</td>\n",
              "      <td>9.0</td>\n",
              "      <td>6.0</td>\n",
              "      <td>4.0</td>\n",
              "      <td>1.0</td>\n",
              "    </tr>\n",
              "    <tr>\n",
              "      <th>PP Chawla</th>\n",
              "      <td>0.0</td>\n",
              "      <td>2.0</td>\n",
              "      <td>1.0</td>\n",
              "      <td>1.0</td>\n",
              "      <td>2.0</td>\n",
              "      <td>10.0</td>\n",
              "      <td>6.0</td>\n",
              "      <td>9.0</td>\n",
              "      <td>12.0</td>\n",
              "      <td>9.0</td>\n",
              "      <td>15.0</td>\n",
              "      <td>9.0</td>\n",
              "      <td>16.0</td>\n",
              "      <td>11.0</td>\n",
              "      <td>14.0</td>\n",
              "      <td>12.0</td>\n",
              "      <td>11.0</td>\n",
              "      <td>7.0</td>\n",
              "      <td>2.0</td>\n",
              "      <td>7.0</td>\n",
              "    </tr>\n",
              "    <tr>\n",
              "      <th>R Ashwin</th>\n",
              "      <td>7.0</td>\n",
              "      <td>1.0</td>\n",
              "      <td>5.0</td>\n",
              "      <td>6.0</td>\n",
              "      <td>10.0</td>\n",
              "      <td>8.0</td>\n",
              "      <td>2.0</td>\n",
              "      <td>9.0</td>\n",
              "      <td>7.0</td>\n",
              "      <td>6.0</td>\n",
              "      <td>10.0</td>\n",
              "      <td>11.0</td>\n",
              "      <td>8.0</td>\n",
              "      <td>8.0</td>\n",
              "      <td>8.0</td>\n",
              "      <td>15.0</td>\n",
              "      <td>5.0</td>\n",
              "      <td>9.0</td>\n",
              "      <td>1.0</td>\n",
              "      <td>2.0</td>\n",
              "    </tr>\n",
              "    <tr>\n",
              "      <th>RA Jadeja</th>\n",
              "      <td>0.0</td>\n",
              "      <td>0.0</td>\n",
              "      <td>0.0</td>\n",
              "      <td>0.0</td>\n",
              "      <td>2.0</td>\n",
              "      <td>4.0</td>\n",
              "      <td>11.0</td>\n",
              "      <td>4.0</td>\n",
              "      <td>10.0</td>\n",
              "      <td>9.0</td>\n",
              "      <td>9.0</td>\n",
              "      <td>9.0</td>\n",
              "      <td>7.0</td>\n",
              "      <td>9.0</td>\n",
              "      <td>13.0</td>\n",
              "      <td>5.0</td>\n",
              "      <td>12.0</td>\n",
              "      <td>5.0</td>\n",
              "      <td>4.0</td>\n",
              "      <td>3.0</td>\n",
              "    </tr>\n",
              "    <tr>\n",
              "      <th>SL Malinga</th>\n",
              "      <td>12.0</td>\n",
              "      <td>12.0</td>\n",
              "      <td>2.0</td>\n",
              "      <td>3.0</td>\n",
              "      <td>5.0</td>\n",
              "      <td>6.0</td>\n",
              "      <td>1.0</td>\n",
              "      <td>0.0</td>\n",
              "      <td>1.0</td>\n",
              "      <td>2.0</td>\n",
              "      <td>1.0</td>\n",
              "      <td>4.0</td>\n",
              "      <td>9.0</td>\n",
              "      <td>3.0</td>\n",
              "      <td>5.0</td>\n",
              "      <td>18.0</td>\n",
              "      <td>14.0</td>\n",
              "      <td>29.0</td>\n",
              "      <td>36.0</td>\n",
              "      <td>25.0</td>\n",
              "    </tr>\n",
              "    <tr>\n",
              "      <th>SP Narine</th>\n",
              "      <td>0.0</td>\n",
              "      <td>2.0</td>\n",
              "      <td>2.0</td>\n",
              "      <td>3.0</td>\n",
              "      <td>10.0</td>\n",
              "      <td>8.0</td>\n",
              "      <td>0.0</td>\n",
              "      <td>3.0</td>\n",
              "      <td>4.0</td>\n",
              "      <td>3.0</td>\n",
              "      <td>10.0</td>\n",
              "      <td>5.0</td>\n",
              "      <td>5.0</td>\n",
              "      <td>9.0</td>\n",
              "      <td>8.0</td>\n",
              "      <td>9.0</td>\n",
              "      <td>12.0</td>\n",
              "      <td>14.0</td>\n",
              "      <td>15.0</td>\n",
              "      <td>15.0</td>\n",
              "    </tr>\n",
              "    <tr>\n",
              "      <th>UT Yadav</th>\n",
              "      <td>6.0</td>\n",
              "      <td>8.0</td>\n",
              "      <td>7.0</td>\n",
              "      <td>13.0</td>\n",
              "      <td>5.0</td>\n",
              "      <td>7.0</td>\n",
              "      <td>2.0</td>\n",
              "      <td>4.0</td>\n",
              "      <td>4.0</td>\n",
              "      <td>2.0</td>\n",
              "      <td>3.0</td>\n",
              "      <td>3.0</td>\n",
              "      <td>3.0</td>\n",
              "      <td>5.0</td>\n",
              "      <td>2.0</td>\n",
              "      <td>9.0</td>\n",
              "      <td>8.0</td>\n",
              "      <td>11.0</td>\n",
              "      <td>12.0</td>\n",
              "      <td>22.0</td>\n",
              "    </tr>\n",
              "  </tbody>\n",
              "</table>\n",
              "</div>"
            ],
            "text/plain": [
              "over               1     2     3     4     5   ...    16    17    18    19    20\n",
              "bowler                                         ...                              \n",
              "A Mishra          1.0   0.0   0.0   4.0   1.0  ...  15.0   8.0   7.0   5.0   6.0\n",
              "B Kumar          19.0   7.0  13.0   4.0   4.0  ...  12.0   8.0  16.0  20.0  24.0\n",
              "DJ Bravo          NaN   1.0   2.0   3.0   1.0  ...  14.0   9.0  29.0  14.0  36.0\n",
              "Harbhajan Singh   5.0   6.0   1.0   7.0   4.0  ...   8.0   9.0   6.0   4.0   1.0\n",
              "PP Chawla         0.0   2.0   1.0   1.0   2.0  ...  12.0  11.0   7.0   2.0   7.0\n",
              "R Ashwin          7.0   1.0   5.0   6.0  10.0  ...  15.0   5.0   9.0   1.0   2.0\n",
              "RA Jadeja         0.0   0.0   0.0   0.0   2.0  ...   5.0  12.0   5.0   4.0   3.0\n",
              "SL Malinga       12.0  12.0   2.0   3.0   5.0  ...  18.0  14.0  29.0  36.0  25.0\n",
              "SP Narine         0.0   2.0   2.0   3.0  10.0  ...   9.0  12.0  14.0  15.0  15.0\n",
              "UT Yadav          6.0   8.0   7.0  13.0   5.0  ...   9.0   8.0  11.0  12.0  22.0\n",
              "\n",
              "[10 rows x 20 columns]"
            ]
          },
          "metadata": {
            "tags": []
          },
          "execution_count": 6
        }
      ]
    },
    {
      "cell_type": "code",
      "metadata": {
        "id": "j8h89sMDSYJf",
        "colab_type": "code",
        "colab": {}
      },
      "source": [
        "# Q2.- Make a function for batting profile of any batsman:-                                              [Medium+]\n",
        "import pandas as pd\n",
        "def profile(batsman):\n",
        "  deliveries=pd.read_csv('/content/deliveries.csv')\n",
        "  matches=pd.read_csv('/content/matchesnew.csv')\n",
        "  mask=deliveries['batsman']== batsman\n",
        "  return(batsman)\n",
        "  return(\"Innings=\",len(deliveries[mask].groupby(['match_id'])))\n",
        "  return(\"Total runs:\",deliveries.groupby('batsman').get_group(batsman)['batsman_runs'].sum())\n",
        "  return(\"MOM\",matches['player_of_match'].value_counts()[batsman])\n",
        "  mask1=deliveries['batsman_runs']==4\n",
        "  mask2=deliveries['batsman_runs']==6\n",
        "  print(\"boundaries\",deliveries[mask1 | mask2].groupby('batsman').get_group(batsamn)['batsman_runs'].count())\n",
        "\n",
        "\n",
        "\n",
        "\n"
      ],
      "execution_count": 0,
      "outputs": []
    },
    {
      "cell_type": "markdown",
      "metadata": {
        "id": "n6Ftmi3fSwsV",
        "colab_type": "text"
      },
      "source": [
        "Ex- \n",
        "\n",
        "V Kohli:\n",
        "\n",
        "Innings:  \n",
        "\n",
        "Total Runs: \n",
        "\n",
        "No. of MOM(Man of the match):\n",
        "\n",
        "No. of boundries:"
      ]
    },
    {
      "cell_type": "code",
      "metadata": {
        "id": "IKB4T5GcWruI",
        "colab_type": "code",
        "colab": {}
      },
      "source": [
        ""
      ],
      "execution_count": 0,
      "outputs": []
    },
    {
      "cell_type": "code",
      "metadata": {
        "id": "QUnkFJniSvyp",
        "colab_type": "code",
        "colab": {}
      },
      "source": [
        "# Q3.- Write a function to return top-4 batsman at a venue. Take venue as input."
      ],
      "execution_count": 0,
      "outputs": []
    },
    {
      "cell_type": "code",
      "metadata": {
        "id": "GthZEaHbWqO_",
        "colab_type": "code",
        "outputId": "12fa86b9-5383-434a-da3c-aef8ed685979",
        "colab": {
          "base_uri": "https://localhost:8080/",
          "height": 34
        }
      },
      "source": [
        "def venue(place):\n",
        "  \n",
        "  d=deliveries.merge(matches,left_on='match_id',right_on='id')\n",
        "  mask=d['city']==place\n",
        "  return(d[mask].groupby('batsman')['batsman_runs'].sum().sort_values(ascending=False).head(4).index)\n",
        "  \n",
        "venue('Pune')"
      ],
      "execution_count": 0,
      "outputs": [
        {
          "output_type": "execute_result",
          "data": {
            "text/plain": [
              "Index(['SPD Smith', 'RV Uthappa', 'MS Dhoni', 'AM Rahane'], dtype='object', name='batsman')"
            ]
          },
          "metadata": {
            "tags": []
          },
          "execution_count": 7
        }
      ]
    },
    {
      "cell_type": "code",
      "metadata": {
        "id": "OrY1DCnEUeZZ",
        "colab_type": "code",
        "colab": {}
      },
      "source": [
        "# Q4.- No. of matches per season played in Mumbai."
      ],
      "execution_count": 0,
      "outputs": []
    },
    {
      "cell_type": "code",
      "metadata": {
        "id": "sP_94AJ0VJAx",
        "colab_type": "code",
        "outputId": "2c6b55d0-8d87-4c67-d0cb-816bbc8b3202",
        "colab": {
          "base_uri": "https://localhost:8080/",
          "height": 238
        }
      },
      "source": [
        "  import pandas as pd\n",
        "  mask=matches['city']=='Mumbai'\n",
        "  matches[mask].groupby('season').size()"
      ],
      "execution_count": 0,
      "outputs": [
        {
          "output_type": "execute_result",
          "data": {
            "text/plain": [
              "season\n",
              "2008    10\n",
              "2010    13\n",
              "2011    16\n",
              "2012     8\n",
              "2013     8\n",
              "2014     7\n",
              "2015    11\n",
              "2016     4\n",
              "2017     8\n",
              "2018     9\n",
              "2019     7\n",
              "dtype: int64"
            ]
          },
          "metadata": {
            "tags": []
          },
          "execution_count": 78
        }
      ]
    },
    {
      "cell_type": "code",
      "metadata": {
        "id": "xZggSazkVKYg",
        "colab_type": "code",
        "colab": {}
      },
      "source": [
        "# Q5. - Top-3 Player in terms of most no. of catches."
      ],
      "execution_count": 0,
      "outputs": []
    },
    {
      "cell_type": "code",
      "metadata": {
        "id": "j6x0t9RuV-WH",
        "colab_type": "code",
        "outputId": "019990d0-c68e-4e54-f6ed-8ed493d7b6d3",
        "colab": {
          "base_uri": "https://localhost:8080/",
          "height": 102
        }
      },
      "source": [
        "mask=deliveries['dismissal_kind'].isin(['caught','caught and bowled'])\n",
        "deliveries[mask].groupby('bowler')['dismissal_kind'].count().sort_values(ascending=False).head(3)"
      ],
      "execution_count": 8,
      "outputs": [
        {
          "output_type": "execute_result",
          "data": {
            "text/plain": [
              "bowler\n",
              "DJ Bravo           121\n",
              "SL Malinga          96\n",
              "Harbhajan Singh     94\n",
              "Name: dismissal_kind, dtype: int64"
            ]
          },
          "metadata": {
            "tags": []
          },
          "execution_count": 8
        }
      ]
    },
    {
      "cell_type": "code",
      "metadata": {
        "id": "ibsp0LbCKIlg",
        "colab_type": "code",
        "colab": {}
      },
      "source": [
        ""
      ],
      "execution_count": 0,
      "outputs": []
    }
  ]
}